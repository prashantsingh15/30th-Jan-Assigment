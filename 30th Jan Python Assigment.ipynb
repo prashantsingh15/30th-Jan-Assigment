{
 "cells": [
  {
   "cell_type": "markdown",
   "id": "f7a84ce1",
   "metadata": {},
   "source": [
    "Assigment 2:"
   ]
  },
  {
   "cell_type": "markdown",
   "id": "002c05d5",
   "metadata": {},
   "source": [
    "1. Write a program to accept percentage from the user and display the grade according to the following criteria:"
   ]
  },
  {
   "cell_type": "code",
   "execution_count": 4,
   "id": "d2b5ad90",
   "metadata": {},
   "outputs": [
    {
     "name": "stdout",
     "output_type": "stream",
     "text": [
      "Enter the Percantage: 75\n",
      "C\n"
     ]
    }
   ],
   "source": [
    "percantage = float(input('Enter the Percantage: '))\n",
    "\n",
    "if percantage >=90:\n",
    "    grade = \"A\"\n",
    "    \n",
    "elif percantage >= 80:\n",
    "    grade = \"B\"\n",
    "    \n",
    "elif percantage >=60:\n",
    "    grade = \"C\"\n",
    "    \n",
    "elif percantage >= 60:\n",
    "    grade = \"D\"\n",
    "    \n",
    "print(grade)"
   ]
  },
  {
   "cell_type": "markdown",
   "id": "23c07d41",
   "metadata": {},
   "source": [
    "### Write a program to accept the cost price of a bike and display the road tax to be paid according to the following criteria ?"
   ]
  },
  {
   "cell_type": "code",
   "execution_count": 11,
   "id": "6058f5a4",
   "metadata": {},
   "outputs": [
    {
     "name": "stdout",
     "output_type": "stream",
     "text": [
      "This is the road tax: 51000\n",
      "10%\n"
     ]
    }
   ],
   "source": [
    "price = int(input(\"This is the road tax: \"))\n",
    "\n",
    "\n",
    "if price >= 100000:\n",
    "    tax = \"15%\"\n",
    "\n",
    "elif price >= 50000:\n",
    "    tax = \"10%\"\n",
    "    \n",
    "elif price <= 50000:\n",
    "    tax = \"5%\"\n",
    "    \n",
    "print(tax)"
   ]
  },
  {
   "cell_type": "markdown",
   "id": "e6a26453",
   "metadata": {},
   "source": [
    "## Accept any city from the user and display monuments of that city."
   ]
  },
  {
   "cell_type": "code",
   "execution_count": 16,
   "id": "5935e8bb",
   "metadata": {},
   "outputs": [
    {
     "name": "stdout",
     "output_type": "stream",
     "text": [
      " Jaipur\n",
      "Jal Mahal\n"
     ]
    }
   ],
   "source": [
    "City = str(input(\" \"))\n",
    "\n",
    "if City == \"Delhi\":\n",
    "    monument = \"Red Fort\"\n",
    "    \n",
    "elif City == \"Agra\":\n",
    "    monument = \"Taj Mahal\"\n",
    "    \n",
    "elif City == \"Jaipur\":\n",
    "    monument = \"Jal Mahal\"\n",
    "    \n",
    "    \n",
    "print(monument)"
   ]
  },
  {
   "cell_type": "markdown",
   "id": "96de20ef",
   "metadata": {},
   "source": [
    "##  Check how many times  a given number can be divided by 3 before it is less than or equal to 10 ?\n"
   ]
  },
  {
   "cell_type": "code",
   "execution_count": 6,
   "id": "3291f3d9",
   "metadata": {},
   "outputs": [
    {
     "name": "stdout",
     "output_type": "stream",
     "text": [
      "9\n",
      "The number 9 can be divided by 3 0 times before it is less than or equal to 10.\n"
     ]
    }
   ],
   "source": [
    "def count_division(num):\n",
    "    count = 0\n",
    "    while num >= 10 :\n",
    "        num  = num // 3\n",
    "        count += 1 \n",
    "    return count\n",
    "\n",
    "number = int(input())\n",
    "result = count_division(number)\n",
    "print(f\"The number {number} can be divided by 3 {result} times before it is less than or equal to 10.\")"
   ]
  },
  {
   "cell_type": "markdown",
   "id": "54a0bd7f",
   "metadata": {},
   "source": [
    "### Why and when to use While Loop in python give a detailed description with example ?"
   ]
  },
  {
   "cell_type": "markdown",
   "id": "13d90f01",
   "metadata": {},
   "source": [
    "The 'While Loop' is a control flow statement that allows you to execute a block of code rpeatedly as long as a specified condition is True.\n",
    "The general Syntax is :-\n",
    "    while condition:"
   ]
  },
  {
   "cell_type": "code",
   "execution_count": 7,
   "id": "8de01429",
   "metadata": {},
   "outputs": [
    {
     "name": "stdout",
     "output_type": "stream",
     "text": [
      "count: 0 \n",
      "count: 1 \n",
      "count: 2 \n",
      "count: 3 \n",
      "count: 4 \n"
     ]
    }
   ],
   "source": [
    "count = 0\n",
    "while count < 5:\n",
    "    print(f\"count: {count} \")\n",
    "    count +=1"
   ]
  },
  {
   "cell_type": "markdown",
   "id": "75fda182",
   "metadata": {},
   "source": [
    "### Use Nested while loop to print 3 Different pattern ."
   ]
  },
  {
   "cell_type": "markdown",
   "id": "5aac79d8",
   "metadata": {},
   "source": [
    "- Pattern 1\n",
    "- Square Pattern "
   ]
  },
  {
   "cell_type": "code",
   "execution_count": 13,
   "id": "7061d298",
   "metadata": {},
   "outputs": [
    {
     "name": "stdout",
     "output_type": "stream",
     "text": [
      "* * * * * \n",
      "* * * * * \n",
      "* * * * * \n",
      "* * * * * \n",
      "* * * * * \n"
     ]
    }
   ],
   "source": [
    "size = 5\n",
    "row = 0\n",
    "\n",
    "while row < size:\n",
    "    col = 0\n",
    "    while col < size:\n",
    "        print(\"*\", end= \" \")\n",
    "        col += 1\n",
    "        \n",
    "    print()\n",
    "    row += 1"
   ]
  },
  {
   "cell_type": "markdown",
   "id": "4fe1acef",
   "metadata": {},
   "source": [
    "- Pattern 2 -  Right Triangle"
   ]
  },
  {
   "cell_type": "code",
   "execution_count": 15,
   "id": "ff140e01",
   "metadata": {},
   "outputs": [
    {
     "name": "stdout",
     "output_type": "stream",
     "text": [
      "* \n",
      "* * \n",
      "* * * \n",
      "* * * * \n",
      "* * * * * \n"
     ]
    }
   ],
   "source": [
    "size = 5\n",
    "row = 0\n",
    "\n",
    "while row < size:\n",
    "    col = 0\n",
    "    while col <= row:\n",
    "        print(\"*\", end = \" \")\n",
    "        col += 1\n",
    "    print()\n",
    "    row += 1\n"
   ]
  },
  {
   "cell_type": "markdown",
   "id": "73f2c971",
   "metadata": {},
   "source": [
    "- Pattern 3 - Number Pyramid pattern "
   ]
  },
  {
   "cell_type": "code",
   "execution_count": 16,
   "id": "61d93b27",
   "metadata": {},
   "outputs": [
    {
     "name": "stdout",
     "output_type": "stream",
     "text": [
      "1 \n",
      "1 2 \n",
      "1 2 3 \n",
      "1 2 3 4 \n",
      "1 2 3 4 5 \n"
     ]
    }
   ],
   "source": [
    "size = 5\n",
    "row = 1\n",
    "\n",
    "while row <= size:\n",
    "    col = 1\n",
    "    while col <= row:\n",
    "        print(col, end= \" \")\n",
    "        col +=1\n",
    "    print()\n",
    "    row += 1"
   ]
  },
  {
   "cell_type": "markdown",
   "id": "34ecf5e7",
   "metadata": {},
   "source": [
    "- ### Reverse a while loop to display numbers from 10 to 1?\n"
   ]
  },
  {
   "cell_type": "code",
   "execution_count": 17,
   "id": "93488678",
   "metadata": {},
   "outputs": [
    {
     "name": "stdout",
     "output_type": "stream",
     "text": [
      "10\n",
      "9\n",
      "8\n",
      "7\n",
      "6\n",
      "5\n",
      "4\n",
      "3\n",
      "2\n",
      "1\n"
     ]
    }
   ],
   "source": [
    "num  =10\n",
    "while num >= 1:\n",
    "    print(num)\n",
    "    num -= 1"
   ]
  },
  {
   "cell_type": "code",
   "execution_count": null,
   "id": "98b51afa",
   "metadata": {},
   "outputs": [],
   "source": []
  }
 ],
 "metadata": {
  "kernelspec": {
   "display_name": "Python 3 (ipykernel)",
   "language": "python",
   "name": "python3"
  },
  "language_info": {
   "codemirror_mode": {
    "name": "ipython",
    "version": 3
   },
   "file_extension": ".py",
   "mimetype": "text/x-python",
   "name": "python",
   "nbconvert_exporter": "python",
   "pygments_lexer": "ipython3",
   "version": "3.11.2"
  }
 },
 "nbformat": 4,
 "nbformat_minor": 5
}
